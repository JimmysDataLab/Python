{
 "cells": [
  {
   "cell_type": "markdown",
   "id": "cb10893d",
   "metadata": {},
   "source": [
    "* Process of visiting(checking/updating) each node in a tree exactly once is called a tree traversal"
   ]
  },
  {
   "cell_type": "markdown",
   "id": "62572661",
   "metadata": {},
   "source": [
    "## Binary Search Tree"
   ]
  },
  {
   "cell_type": "code",
   "execution_count": 37,
   "id": "8a9b9b28",
   "metadata": {},
   "outputs": [],
   "source": [
    "class Node:\n",
    "    \n",
    "    def __init__(self, value):\n",
    "        self.value = value\n",
    "        self.left = None\n",
    "        self.right = None\n",
    "        \n",
    "    def insert(self, value):\n",
    "        if value < self.value:\n",
    "            if not self.left:\n",
    "                self.left = Node(value)\n",
    "            else:\n",
    "                self.left.insert(value)\n",
    "        else:\n",
    "            if not self.right:\n",
    "                self.right = Node(value)\n",
    "            else:\n",
    "                self.right.insert(value)\n",
    "    \n",
    "    def inorder_traversal(self):\n",
    "        \n",
    "        # left subtree -> root -> right subtree\n",
    "        if self.left:\n",
    "            self.left.inorder_traversal()\n",
    "        print(self.value)\n",
    "\n",
    "            \n",
    "            \n",
    "               "
   ]
  },
  {
   "cell_type": "markdown",
   "id": "33a35d22",
   "metadata": {},
   "source": [
    "## Traversal\n",
    "### Inorder traversal"
   ]
  },
  {
   "cell_type": "code",
   "execution_count": 40,
   "id": "f3d7e9f6",
   "metadata": {},
   "outputs": [],
   "source": [
    "tree = Node(5)\n",
    "for i in [12,4,23,6,45,7,3]:\n",
    "    tree.insert(i)\n",
    "   \n"
   ]
  },
  {
   "cell_type": "code",
   "execution_count": 41,
   "id": "0cc0bf88",
   "metadata": {},
   "outputs": [
    {
     "name": "stdout",
     "output_type": "stream",
     "text": [
      "3\n",
      "4\n",
      "5\n"
     ]
    }
   ],
   "source": [
    "tree.inorder_traversal()\n",
    "#print(path)"
   ]
  }
 ],
 "metadata": {
  "kernelspec": {
   "display_name": "test-kernel",
   "language": "python",
   "name": "test-kernel"
  },
  "language_info": {
   "codemirror_mode": {
    "name": "ipython",
    "version": 3
   },
   "file_extension": ".py",
   "mimetype": "text/x-python",
   "name": "python",
   "nbconvert_exporter": "python",
   "pygments_lexer": "ipython3",
   "version": "3.9.7"
  }
 },
 "nbformat": 4,
 "nbformat_minor": 5
}
