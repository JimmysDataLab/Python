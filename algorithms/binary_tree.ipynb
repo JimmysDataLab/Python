{
 "cells": [
  {
   "cell_type": "markdown",
   "id": "cb10893d",
   "metadata": {},
   "source": [
    "* Process of visiting(checking/updating) each node in a tree exactly once is called a tree traversal"
   ]
  },
  {
   "cell_type": "markdown",
   "id": "62572661",
   "metadata": {},
   "source": [
    "## Binary Search Tree"
   ]
  },
  {
   "cell_type": "code",
   "execution_count": 6,
   "id": "8a9b9b28",
   "metadata": {},
   "outputs": [],
   "source": [
    "# class Node():\n",
    "    \n",
    "#     def __init__(self, value = None):\n",
    "#         self.value = value\n",
    "#         self.left = None\n",
    "#         self.right = None\n",
    "\n",
    "\n",
    "        \n",
    "class TreeNode():\n",
    "    \n",
    "    def __init__(self, value = None):\n",
    "        self.value = value\n",
    "        self.left = None\n",
    "        self.right = None\n",
    "    \n",
    "\n",
    "    def insert(self, value):\n",
    "        \n",
    "        if self.value is None:\n",
    "            self.value = value\n",
    "        else:\n",
    "            if value <= self.value:\n",
    "                if self.left is None:\n",
    "                    self.left = TreeNode(value)\n",
    "                else:\n",
    "                    self.left.insert(value)\n",
    "            else:\n",
    "                if self.right is None:\n",
    "                    self.right = TreeNode(value)\n",
    "                else:\n",
    "                    self.right.insert(value)\n",
    "     \n",
    "    \n",
    "#     def inorder_traverse(self):\n",
    "        \n",
    "\n",
    "            \n",
    "#         if self.left:\n",
    "#             self.left.inorder_traverse()\n",
    "#             print(f\"{self.value}->\")\n",
    "#             if self.right:\n",
    "#                 self.right.inorder_traverse()\n",
    "                \n",
    "#         else:\n",
    "#             print(f\"{self.value}->\")\n",
    "#             # if not left then check right\n",
    "#             if self.right:\n",
    "#                 self.right.inorder_traverse()\n",
    "                \n",
    "                \n",
    "    def inorder_traverse(self):\n",
    "             \n",
    "        if self.left:\n",
    "            self.left.inorder_traverse()\n",
    "        print(self.value)\n",
    "        if self.right:\n",
    "            self.right.inorder_traverse()\n",
    "            \n",
    "## main\n",
    "tree = TreeNode()\n",
    "tree.insert(5)\n",
    "tree.insert(4)\n",
    "tree.insert(3)\n",
    "tree.insert(2)\n",
    "tree.insert(2.8)\n",
    "tree.insert(3.1)\n",
    "tree.insert(4.9)\n",
    "tree.insert(4.5)\n",
    "tree.insert(4.3)\n"
   ]
  },
  {
   "cell_type": "code",
   "execution_count": null,
   "id": "d27b6b78",
   "metadata": {},
   "outputs": [],
   "source": []
  },
  {
   "cell_type": "code",
   "execution_count": 5,
   "id": "a8758c99",
   "metadata": {},
   "outputs": [
    {
     "name": "stdout",
     "output_type": "stream",
     "text": [
      "2\n",
      "2.8\n",
      "3\n",
      "3.1\n",
      "4\n",
      "4.3\n",
      "4.5\n",
      "4.9\n",
      "5\n"
     ]
    }
   ],
   "source": [
    "tree.inorder_traverse_opt()"
   ]
  },
  {
   "cell_type": "markdown",
   "id": "33a35d22",
   "metadata": {},
   "source": [
    "## Traversal\n",
    "### Inorder traversal"
   ]
  },
  {
   "cell_type": "code",
   "execution_count": 3,
   "id": "f3d7e9f6",
   "metadata": {},
   "outputs": [
    {
     "ename": "NameError",
     "evalue": "name 'Node' is not defined",
     "output_type": "error",
     "traceback": [
      "\u001b[0;31m---------------------------------------------------------------------------\u001b[0m",
      "\u001b[0;31mNameError\u001b[0m                                 Traceback (most recent call last)",
      "Cell \u001b[0;32mIn[3], line 1\u001b[0m\n\u001b[0;32m----> 1\u001b[0m tree \u001b[38;5;241m=\u001b[39m \u001b[43mNode\u001b[49m(\u001b[38;5;241m5\u001b[39m)\n\u001b[1;32m      2\u001b[0m \u001b[38;5;28;01mfor\u001b[39;00m i \u001b[38;5;129;01min\u001b[39;00m [\u001b[38;5;241m12\u001b[39m,\u001b[38;5;241m4\u001b[39m,\u001b[38;5;241m23\u001b[39m,\u001b[38;5;241m6\u001b[39m,\u001b[38;5;241m45\u001b[39m,\u001b[38;5;241m7\u001b[39m,\u001b[38;5;241m3\u001b[39m]:\n\u001b[1;32m      3\u001b[0m     tree\u001b[38;5;241m.\u001b[39minsert(i)\n",
      "\u001b[0;31mNameError\u001b[0m: name 'Node' is not defined"
     ]
    }
   ],
   "source": [
    "tree = Node(5)\n",
    "for i in [12,4,23,6,45,7,3]:\n",
    "    tree.insert(i)\n",
    "   \n"
   ]
  },
  {
   "cell_type": "code",
   "execution_count": null,
   "id": "0cc0bf88",
   "metadata": {},
   "outputs": [],
   "source": [
    "tree.inorder_traversal()\n",
    "#print(path)"
   ]
  }
 ],
 "metadata": {
  "kernelspec": {
   "display_name": "test-kernel",
   "language": "python",
   "name": "test-kernel"
  },
  "language_info": {
   "codemirror_mode": {
    "name": "ipython",
    "version": 3
   },
   "file_extension": ".py",
   "mimetype": "text/x-python",
   "name": "python",
   "nbconvert_exporter": "python",
   "pygments_lexer": "ipython3",
   "version": "3.9.7"
  }
 },
 "nbformat": 4,
 "nbformat_minor": 5
}
