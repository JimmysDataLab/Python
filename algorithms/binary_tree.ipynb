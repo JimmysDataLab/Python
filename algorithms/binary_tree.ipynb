{
 "cells": [
  {
   "cell_type": "markdown",
   "id": "cb10893d",
   "metadata": {},
   "source": [
    "* Process of visiting(checking/updating) each node in a tree exactly once is called a tree traversal"
   ]
  },
  {
   "cell_type": "markdown",
   "id": "62572661",
   "metadata": {},
   "source": [
    "## Binary Search Tree"
   ]
  },
  {
   "cell_type": "code",
   "execution_count": 68,
   "id": "8a9b9b28",
   "metadata": {},
   "outputs": [],
   "source": [
    "class Node():\n",
    "    \n",
    "    def __init__(self, value = None):\n",
    "        self.value = value\n",
    "        self.left = None\n",
    "        self.right = None\n",
    "\n",
    "\n",
    "        \n",
    "class BinaryTree():\n",
    "    \n",
    "    def __init__(self):\n",
    "        self.root = None\n",
    "\n",
    "    \n",
    "    def insert(self,value):\n",
    "        \n",
    "        if not self.root:\n",
    "            self.root = Node()\n",
    "        else:\n",
    "            self._insert(self.root, value)\n",
    "        \n",
    "\n",
    "    def _insert(self, node, value):\n",
    "        \n",
    "        if node.value is None:\n",
    "            node.value = value\n",
    "        else:\n",
    "            if value <= node.value:\n",
    "                if node.left is None:\n",
    "                    node.left = Node(value)\n",
    "                else:\n",
    "                    self._insert(node.left, value)\n",
    "            else:\n",
    "                if node.right is None:\n",
    "                    node.right = Node(value)\n",
    "                else:\n",
    "                    self._insert(node.right, value)\n",
    "                    \n",
    "                    \n",
    "    def find(self, value):\n",
    "        \n",
    "        if value == self.value:\n",
    "            return True\n",
    "        \n",
    "        if value < self.value:\n",
    "            if self.left is None:\n",
    "                return False\n",
    "            else:\n",
    "                return self.left.find(value)\n",
    "                \n",
    "        if value > self.value:\n",
    "            if self.right is None:\n",
    "                return False\n",
    "            else:\n",
    "                return self.right.find(value)\n",
    "             \n",
    "                \n",
    "                \n",
    "    def inorder_traverse(self):\n",
    "\n",
    "             \n",
    "        if self.left:\n",
    "            self.left.inorder_traverse()\n",
    "        print(f\" {self.value} ->\",end='')   \n",
    "\n",
    "        if self.right:\n",
    "            self.right.inorder_traverse()\n",
    "            \n",
    "                \n",
    "    def preorder_traverse(self):\n",
    "\n",
    "\n",
    "        print(f\" {self.value} ->\",end='') \n",
    "        if self.left:\n",
    "            self.left.preorder_traverse()\n",
    "        if self.right:\n",
    "            self.right.preorder_traverse()\n",
    "            \n",
    "            \n",
    "    def postorder_traverse(self):\n",
    "\n",
    "\n",
    "        \n",
    "        if self.left:\n",
    "            self.left.postorder_traverse()\n",
    "        if self.right:\n",
    "            self.right.postorder_traverse()\n",
    "        print(f\" {self.value} ->\",end='') \n",
    "            \n",
    "## main\n",
    "tree = TreeNode()\n",
    "tree.insert(7)\n",
    "tree.insert(5)\n",
    "tree.insert(4)\n",
    "tree.insert(3)\n",
    "tree.insert(2)\n",
    "tree.insert(6)\n",
    "tree.insert(8)\n",
    "tree.insert(1)\n",
    "tree.insert(21)\n",
    "tree.insert(9)\n"
   ]
  },
  {
   "cell_type": "code",
   "execution_count": 69,
   "id": "a8758c99",
   "metadata": {},
   "outputs": [
    {
     "name": "stdout",
     "output_type": "stream",
     "text": [
      " 1 -> 2 -> 3 -> 4 -> 5 -> 6 -> 7 -> 8 -> 9 -> 21 ->"
     ]
    }
   ],
   "source": [
    "tree.inorder_traverse()"
   ]
  },
  {
   "cell_type": "code",
   "execution_count": 70,
   "id": "3bc49a8f",
   "metadata": {},
   "outputs": [
    {
     "name": "stdout",
     "output_type": "stream",
     "text": [
      " 7 -> 5 -> 4 -> 3 -> 2 -> 1 -> 6 -> 8 -> 21 -> 9 ->"
     ]
    }
   ],
   "source": [
    "tree.preorder_traverse()"
   ]
  },
  {
   "cell_type": "code",
   "execution_count": 71,
   "id": "533b4466",
   "metadata": {},
   "outputs": [
    {
     "name": "stdout",
     "output_type": "stream",
     "text": [
      " 1 -> 2 -> 3 -> 4 -> 6 -> 5 -> 9 -> 21 -> 8 -> 7 ->"
     ]
    }
   ],
   "source": [
    "tree.postorder_traverse()"
   ]
  },
  {
   "cell_type": "code",
   "execution_count": 72,
   "id": "1d60e74a",
   "metadata": {},
   "outputs": [
    {
     "name": "stdout",
     "output_type": "stream",
     "text": [
      "True\n"
     ]
    }
   ],
   "source": [
    "tree.find(6)"
   ]
  }
 ],
 "metadata": {
  "kernelspec": {
   "display_name": "test-kernel",
   "language": "python",
   "name": "test-kernel"
  },
  "language_info": {
   "codemirror_mode": {
    "name": "ipython",
    "version": 3
   },
   "file_extension": ".py",
   "mimetype": "text/x-python",
   "name": "python",
   "nbconvert_exporter": "python",
   "pygments_lexer": "ipython3",
   "version": "3.9.7"
  }
 },
 "nbformat": 4,
 "nbformat_minor": 5
}
