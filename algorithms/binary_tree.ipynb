{
 "cells": [
  {
   "cell_type": "markdown",
   "id": "cb10893d",
   "metadata": {},
   "source": [
    "* Process of visiting(checking/updating) each node in a tree exactly once is called a tree traversal"
   ]
  },
  {
   "cell_type": "markdown",
   "id": "62572661",
   "metadata": {},
   "source": [
    "## Binary Search Tree"
   ]
  },
  {
   "cell_type": "code",
   "execution_count": 22,
   "id": "8a9b9b28",
   "metadata": {},
   "outputs": [],
   "source": [
    "# class Node():\n",
    "    \n",
    "#     def __init__(self, value = None):\n",
    "#         self.value = value\n",
    "#         self.left = None\n",
    "#         self.right = None\n",
    "\n",
    "\n",
    "        \n",
    "class TreeNode():\n",
    "    \n",
    "    def __init__(self, value = None):\n",
    "        self.value = value\n",
    "        self.left = None\n",
    "        self.right = None\n",
    "    \n",
    "\n",
    "    def insert(self, value):\n",
    "        \n",
    "        if self.value is None:\n",
    "            self.value = value\n",
    "        else:\n",
    "            if value <= self.value:\n",
    "                if self.left is None:\n",
    "                    self.left = TreeNode(value)\n",
    "                else:\n",
    "                    self.left.insert(value)\n",
    "            else:\n",
    "                if self.right is None:\n",
    "                    self.right = TreeNode(value)\n",
    "                else:\n",
    "                    self.right.insert(value)\n",
    "     \n",
    "    \n",
    "    def inorder_traverse(self):\n",
    "        \n",
    "        # Go to extreme left \n",
    "        if self.left is None:\n",
    "            print(f\"{self.value}->\")\n",
    "        else:\n",
    "            self.left.inorder_traverse()\n",
    "\n",
    "            \n",
    "## main\n",
    "tree = TreeNode()\n",
    "tree.insert(5)\n",
    "tree.insert(4)\n",
    "tree.insert(3)\n",
    "tree.insert(2)\n"
   ]
  },
  {
   "cell_type": "code",
   "execution_count": 23,
   "id": "a8758c99",
   "metadata": {},
   "outputs": [
    {
     "name": "stdout",
     "output_type": "stream",
     "text": [
      "2->\n"
     ]
    }
   ],
   "source": [
    "tree.inorder_traverse()"
   ]
  },
  {
   "cell_type": "markdown",
   "id": "33a35d22",
   "metadata": {},
   "source": [
    "## Traversal\n",
    "### Inorder traversal"
   ]
  },
  {
   "cell_type": "code",
   "execution_count": 3,
   "id": "f3d7e9f6",
   "metadata": {},
   "outputs": [],
   "source": [
    "tree = Node(5)\n",
    "for i in [12,4,23,6,45,7,3]:\n",
    "    tree.insert(i)\n",
    "   \n"
   ]
  },
  {
   "cell_type": "code",
   "execution_count": 41,
   "id": "0cc0bf88",
   "metadata": {},
   "outputs": [
    {
     "name": "stdout",
     "output_type": "stream",
     "text": [
      "3\n",
      "4\n",
      "5\n"
     ]
    }
   ],
   "source": [
    "tree.inorder_traversal()\n",
    "#print(path)"
   ]
  }
 ],
 "metadata": {
  "kernelspec": {
   "display_name": "test-kernel",
   "language": "python",
   "name": "test-kernel"
  },
  "language_info": {
   "codemirror_mode": {
    "name": "ipython",
    "version": 3
   },
   "file_extension": ".py",
   "mimetype": "text/x-python",
   "name": "python",
   "nbconvert_exporter": "python",
   "pygments_lexer": "ipython3",
   "version": "3.9.7"
  }
 },
 "nbformat": 4,
 "nbformat_minor": 5
}
