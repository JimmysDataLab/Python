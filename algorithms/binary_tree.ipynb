{
 "cells": [
  {
   "cell_type": "markdown",
   "id": "cb10893d",
   "metadata": {},
   "source": [
    "* Process of visiting(checking/updating) each node in a tree exactly once is called a tree traversal"
   ]
  },
  {
   "cell_type": "markdown",
   "id": "62572661",
   "metadata": {},
   "source": [
    "## Binary Search Tree"
   ]
  },
  {
   "cell_type": "code",
   "execution_count": 95,
   "id": "8a9b9b28",
   "metadata": {},
   "outputs": [],
   "source": [
    "class Node:\n",
    "    \n",
    "    def __init__(self, value):\n",
    "        self.value = value\n",
    "        self.left = None\n",
    "        self.right = None\n",
    "        \n",
    "    def insert(self, value):\n",
    "        if value < self.value:\n",
    "            if not self.left:\n",
    "                self.left = Node(value)\n",
    "            else:\n",
    "                self.left.insert(value)\n",
    "        else:\n",
    "            if not self.right:\n",
    "                self.right = Node(value)\n",
    "            else:\n",
    "                self.right.insert(value)\n",
    "            \n",
    "        \n",
    "        \n",
    "\n",
    "# Create Tree\n",
    "#\n",
    "#        3\n",
    "#      /   \\\n",
    "#    4      5\n",
    "#  /   \\     \\\n",
    "# 7    8      1\n",
    "#\n",
    "# tree = BinaryTree(3)\n",
    "# tree.root.left = Node(4)\n",
    "# tree.root.left.left = Node(7)\n",
    "# tree.root.left.right = Node(8)\n",
    "# tree.root.right = Node(5)\n",
    "# tree.root.right.right = Node(1)"
   ]
  },
  {
   "cell_type": "code",
   "execution_count": null,
   "id": "9a9fe236",
   "metadata": {},
   "outputs": [],
   "source": []
  },
  {
   "cell_type": "code",
   "execution_count": 102,
   "id": "f3d7e9f6",
   "metadata": {},
   "outputs": [],
   "source": [
    "root = Node(5)\n",
    "for i in [12,4,5,23,5,6,45,7]:\n",
    "    root.insert(i)\n",
    "   \n"
   ]
  },
  {
   "cell_type": "code",
   "execution_count": 110,
   "id": "0cc0bf88",
   "metadata": {},
   "outputs": [
    {
     "data": {
      "text/plain": [
       "23"
      ]
     },
     "execution_count": 110,
     "metadata": {},
     "output_type": "execute_result"
    }
   ],
   "source": [
    "root.right.right.value"
   ]
  }
 ],
 "metadata": {
  "kernelspec": {
   "display_name": "test-kernel",
   "language": "python",
   "name": "test-kernel"
  },
  "language_info": {
   "codemirror_mode": {
    "name": "ipython",
    "version": 3
   },
   "file_extension": ".py",
   "mimetype": "text/x-python",
   "name": "python",
   "nbconvert_exporter": "python",
   "pygments_lexer": "ipython3",
   "version": "3.9.7"
  }
 },
 "nbformat": 4,
 "nbformat_minor": 5
}
