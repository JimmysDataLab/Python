{
 "cells": [
  {
   "cell_type": "markdown",
   "id": "22fade6c",
   "metadata": {},
   "source": [
    "* Process of visiting(checking/updating) each node in a tree exactly once is called a tree traversal"
   ]
  },
  {
   "cell_type": "code",
   "execution_count": 9,
   "id": "a7d5cc9b",
   "metadata": {},
   "outputs": [],
   "source": [
    "class Node:\n",
    "    def __init__(self, value):\n",
    "        self.value = value\n",
    "        self.left = None\n",
    "        self.right = None\n",
    "    \n",
    "class BinaryTree:\n",
    "    def __init__(self, root):\n",
    "        self.root = Node(root)\n",
    "        \n",
    "    def preorder_print(self,)"
   ]
  },
  {
   "cell_type": "code",
   "execution_count": 28,
   "id": "1f9ec291",
   "metadata": {},
   "outputs": [],
   "source": [
    "# Create Tree\n",
    "#\n",
    "#        3\n",
    "#      /   \\\n",
    "#    4      5\n",
    "#  /   \\     \\\n",
    "# 7    8      1\n",
    "#\n",
    "\n",
    "root = Node(3)\n",
    "root.left = Node(4)\n",
    "root.left.left = Node(7)\n",
    "root.left.right = Node(8)\n",
    "root.right = Node(5)\n",
    "root.right.right = Node(1)"
   ]
  },
  {
   "cell_type": "code",
   "execution_count": null,
   "id": "9952ea3a",
   "metadata": {},
   "outputs": [],
   "source": []
  }
 ],
 "metadata": {
  "kernelspec": {
   "display_name": "test-kernel",
   "language": "python",
   "name": "test-kernel"
  },
  "language_info": {
   "codemirror_mode": {
    "name": "ipython",
    "version": 3
   },
   "file_extension": ".py",
   "mimetype": "text/x-python",
   "name": "python",
   "nbconvert_exporter": "python",
   "pygments_lexer": "ipython3",
   "version": "3.9.7"
  }
 },
 "nbformat": 4,
 "nbformat_minor": 5
}
