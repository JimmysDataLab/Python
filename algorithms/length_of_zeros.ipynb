{
 "cells": [
  {
   "cell_type": "markdown",
   "id": "cc8c0723",
   "metadata": {},
   "source": [
    "* returns generator containing `[start of latest chain,current length of chain]`\n",
    "* dict constructor keeps only latest `[start of latest chain,current length of chain]`"
   ]
  },
  {
   "cell_type": "code",
   "execution_count": 137,
   "id": "e6f8b522",
   "metadata": {},
   "outputs": [],
   "source": [
    "data = \"110001100111000010001110\"\n",
    "\n",
    "\n",
    "\n",
    "def foo(x):\n",
    "\n",
    "    cn = 0\n",
    "    for key, value in enumerate(data):\n",
    "\n",
    "        if int(value):\n",
    "            cn = 0    \n",
    "        else:\n",
    "            cn +=1\n",
    "            yield [key-cn+1,cn]\n",
    "            \n",
    "            \n",
    "gen = foo(data)"
   ]
  },
  {
   "cell_type": "code",
   "execution_count": 138,
   "id": "f8054887",
   "metadata": {},
   "outputs": [
    {
     "data": {
      "text/plain": [
       "{2: 3, 7: 2, 12: 4, 17: 3, 23: 1}"
      ]
     },
     "execution_count": 138,
     "metadata": {},
     "output_type": "execute_result"
    }
   ],
   "source": [
    "dict(gen)"
   ]
  }
 ],
 "metadata": {
  "kernelspec": {
   "display_name": "test-kernel",
   "language": "python",
   "name": "test-kernel"
  },
  "language_info": {
   "codemirror_mode": {
    "name": "ipython",
    "version": 3
   },
   "file_extension": ".py",
   "mimetype": "text/x-python",
   "name": "python",
   "nbconvert_exporter": "python",
   "pygments_lexer": "ipython3",
   "version": "3.9.7"
  }
 },
 "nbformat": 4,
 "nbformat_minor": 5
}
