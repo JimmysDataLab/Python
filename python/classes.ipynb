{
 "cells": [
  {
   "cell_type": "markdown",
   "id": "26b8edd7",
   "metadata": {},
   "source": [
    "# All about python classes"
   ]
  },
  {
   "cell_type": "code",
   "execution_count": 16,
   "id": "4e481306",
   "metadata": {},
   "outputs": [
    {
     "name": "stdout",
     "output_type": "stream",
     "text": [
      "<class 'function'>\n",
      "<class 'str'>\n",
      "<class 'int'>\n"
     ]
    }
   ],
   "source": [
    "# Everything in python is an object of some class\n",
    "\n",
    "def foo():\n",
    "    print('hello')\n",
    "\n",
    "print(type(foo))\n",
    "print(type('hello'))\n",
    "print(type(13))"
   ]
  },
  {
   "cell_type": "code",
   "execution_count": 35,
   "id": "3469c660",
   "metadata": {},
   "outputs": [
    {
     "name": "stdout",
     "output_type": "stream",
     "text": [
      "hey look I made a dog\n",
      "Howwwlllll\n",
      "bark !!\n"
     ]
    }
   ],
   "source": [
    "class Dog:\n",
    "    \n",
    "    def __init__(self): # 'self' allows you to create an instance of the Dog class, \n",
    "                        # It can be any word other than 'self'.\n",
    "        print(\"hey look I made a dog\")\n",
    "    \n",
    "    def howl(self): # 'self' allows you to use the method 'howl' with an instance of 'Dog'\n",
    "        print(\"Howwwlllll\")\n",
    "        \n",
    "    def bark(): # Here 'self' is not given, therefore 'bark' cannot be used with \n",
    "                # instace of 'Dog'\n",
    "        print(\"bark !!\")\n",
    "    \n",
    "        \n",
    "dog = Dog() # Creates an instance of \"Dog\". Uses __init__(self)\n",
    "dog.howl()\n",
    "try:\n",
    "    dog.bark() # This will not work because self was not passed into the first\n",
    "               # place of the function argument\n",
    "except:\n",
    "    pass\n",
    "Dog.bark() # This works as we are explicitly giving the class.\n",
    "           # I can use this method without creating an instance of this class"
   ]
  },
  {
   "cell_type": "code",
   "execution_count": 41,
   "id": "ca633406",
   "metadata": {},
   "outputs": [
    {
     "name": "stdout",
     "output_type": "stream",
     "text": [
      "hey look I made a dog\n",
      "hey look I made a dog\n",
      "3\n",
      "Rottwieler\n"
     ]
    }
   ],
   "source": [
    "class Dog:\n",
    "    \n",
    "    def __init__(self,age,breed): \n",
    "        self.age = age # Anything with a 'self' belongs to an instance of the class \n",
    "        self.breed = breed\n",
    "        print(\"hey look I made a dog\")\n",
    "    \n",
    "    def howl(self): \n",
    "        print(\"Howwwlllll\")\n",
    "        \n",
    "    def bark(): # Here 'self' is not given, therefore 'bark' cannot be used with \n",
    "                # instace of 'Dog'\n",
    "        print(\"bark !!\")\n",
    "        # print(self.age) This will not work as function 'bark' is not associated \n",
    "        # with an instance\n",
    "\n",
    "rambo = Dog(3,'Rottwieler')\n",
    "simba = Dog(3,'Dashhund')\n",
    "print(simba.age)\n",
    "print(rambo.breed)\n",
    "\n",
    "try:\n",
    "    Dog.breed # Will not work as breed is an instance variable\n",
    "except:\n",
    "    pass\n",
    "\n"
   ]
  },
  {
   "cell_type": "markdown",
   "id": "fbd7a064",
   "metadata": {},
   "source": [
    "## overiding methods (dunder methods)\n",
    "\n",
    "* dunder methods are predifined identifiers for certain operators like '+' -> `__add__`"
   ]
  },
  {
   "cell_type": "code",
   "execution_count": 42,
   "id": "7b447924",
   "metadata": {},
   "outputs": [],
   "source": [
    "# Create a class vector that takes upto 3 dimensions\n",
    "# Create methods for adding, subtracting and mulitplying vectors using +,- and *\n",
    "# Create method for printing vectors in format `{x,y,z}`"
   ]
  },
  {
   "cell_type": "code",
   "execution_count": 52,
   "id": "6fd2e5fa",
   "metadata": {},
   "outputs": [
    {
     "name": "stdout",
     "output_type": "stream",
     "text": [
      "[1,2,3] [3,2,1]\n",
      "[4,4,4]\n",
      "[-2,0,2]\n",
      "10\n"
     ]
    }
   ],
   "source": [
    "class Vector:\n",
    "    \n",
    "    def __init__(self,x,y,z):\n",
    "        self.x = x\n",
    "        self.y = y\n",
    "        self.z = z\n",
    "    \n",
    "    def __str__(self): # This dunder method helps us print the instance\n",
    "                       # in the format that we want \n",
    "        return f'[{str(self.x)},{str(self.y)},{str(self.z)}]'\n",
    "        \n",
    "    def __add__(self,vector): # 2nd parameter is itself an instance of 'Vector'\n",
    "                              # returning a vector object \n",
    "        return Vector(self.x+vector.x, self.y+vector.y, self.z+vector.z)\n",
    "    \n",
    "    def __sub__(self,vector): \n",
    "        return Vector(self.x-vector.x, self.y-vector.y, self.z-vector.z)\n",
    "    \n",
    "    def __mul__(self,vector):\n",
    "        return self.x*vector.x + self.y*vector.y + self.z*vector.z\n",
    "        \n",
    "    \n",
    "\n",
    "v1 = Vector(1,2,3)\n",
    "v2 = Vector(3,2,1)\n",
    "print(v1, v2)\n",
    "print(v1 + v2)\n",
    "print(v1 - v2)\n",
    "print(v1 * v2)\n",
    "        "
   ]
  },
  {
   "cell_type": "markdown",
   "id": "21684793",
   "metadata": {},
   "source": [
    "### Inheritance"
   ]
  },
  {
   "cell_type": "markdown",
   "id": "45fab7b1",
   "metadata": {},
   "source": [
    "### Dunder Methods"
   ]
  },
  {
   "cell_type": "code",
   "execution_count": 21,
   "id": "1ecbee9a",
   "metadata": {},
   "outputs": [
    {
     "ename": "SyntaxError",
     "evalue": "invalid syntax (752957001.py, line 1)",
     "output_type": "error",
     "traceback": [
      "\u001b[0;36m  Cell \u001b[0;32mIn[21], line 1\u001b[0;36m\u001b[0m\n\u001b[0;31m    2._add_(3)\u001b[0m\n\u001b[0m      ^\u001b[0m\n\u001b[0;31mSyntaxError\u001b[0m\u001b[0;31m:\u001b[0m invalid syntax\n"
     ]
    }
   ],
   "source": []
  }
 ],
 "metadata": {
  "kernelspec": {
   "display_name": "test-kernel",
   "language": "python",
   "name": "test-kernel"
  },
  "language_info": {
   "codemirror_mode": {
    "name": "ipython",
    "version": 3
   },
   "file_extension": ".py",
   "mimetype": "text/x-python",
   "name": "python",
   "nbconvert_exporter": "python",
   "pygments_lexer": "ipython3",
   "version": "3.9.7"
  }
 },
 "nbformat": 4,
 "nbformat_minor": 5
}
