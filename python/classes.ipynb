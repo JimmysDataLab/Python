{
 "cells": [
  {
   "cell_type": "markdown",
   "id": "73c61d70",
   "metadata": {},
   "source": [
    "# All about python classes"
   ]
  },
  {
   "cell_type": "code",
   "execution_count": 16,
   "id": "90fd017e",
   "metadata": {},
   "outputs": [
    {
     "name": "stdout",
     "output_type": "stream",
     "text": [
      "<class 'function'>\n",
      "<class 'str'>\n",
      "<class 'int'>\n"
     ]
    }
   ],
   "source": [
    "# Everything in python is an object of some class\n",
    "\n",
    "def foo():\n",
    "    print('hello')\n",
    "\n",
    "print(type(foo))\n",
    "print(type('hello'))\n",
    "print(type(13))"
   ]
  },
  {
   "cell_type": "code",
   "execution_count": 35,
   "id": "ab4af50d",
   "metadata": {},
   "outputs": [
    {
     "name": "stdout",
     "output_type": "stream",
     "text": [
      "hey look I made a dog\n",
      "Howwwlllll\n",
      "bark !!\n"
     ]
    }
   ],
   "source": [
    "class Dog:\n",
    "    \n",
    "    def __init__(self): # 'self' allows you to create an instance of the Dog class, \n",
    "                        # It can be any word other than 'self'.\n",
    "        print(\"hey look I made a dog\")\n",
    "    \n",
    "    def howl(self): # 'self' allows you to use the method 'howl' with an instance of 'Dog'\n",
    "        print(\"Howwwlllll\")\n",
    "        \n",
    "    def bark(): # Here 'self' is not given, therefore 'bark' cannot be used with \n",
    "                # instace of 'Dog'\n",
    "        print(\"bark !!\")\n",
    "    \n",
    "        \n",
    "dog = Dog()\n",
    "dog.howl()\n",
    "try:\n",
    "    dog.bark() # This will not work because self was not passed into the first\n",
    "               # place of the function argument\n",
    "except:\n",
    "    pass\n",
    "Dog.bark() # This works as we are explicitly giving the class."
   ]
  },
  {
   "cell_type": "markdown",
   "id": "fcfdd442",
   "metadata": {},
   "source": [
    "### Dunder Methods"
   ]
  },
  {
   "cell_type": "code",
   "execution_count": 21,
   "id": "4541e9d2",
   "metadata": {},
   "outputs": [
    {
     "ename": "SyntaxError",
     "evalue": "invalid syntax (752957001.py, line 1)",
     "output_type": "error",
     "traceback": [
      "\u001b[0;36m  Cell \u001b[0;32mIn[21], line 1\u001b[0;36m\u001b[0m\n\u001b[0;31m    2._add_(3)\u001b[0m\n\u001b[0m      ^\u001b[0m\n\u001b[0;31mSyntaxError\u001b[0m\u001b[0;31m:\u001b[0m invalid syntax\n"
     ]
    }
   ],
   "source": []
  }
 ],
 "metadata": {
  "kernelspec": {
   "display_name": "test-kernel",
   "language": "python",
   "name": "test-kernel"
  },
  "language_info": {
   "codemirror_mode": {
    "name": "ipython",
    "version": 3
   },
   "file_extension": ".py",
   "mimetype": "text/x-python",
   "name": "python",
   "nbconvert_exporter": "python",
   "pygments_lexer": "ipython3",
   "version": "3.9.7"
  }
 },
 "nbformat": 4,
 "nbformat_minor": 5
}
