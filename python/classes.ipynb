{
 "cells": [
  {
   "cell_type": "markdown",
   "id": "174b514e",
   "metadata": {},
   "source": [
    "# All about python classes"
   ]
  },
  {
   "cell_type": "code",
   "execution_count": 16,
   "id": "c2a5ff31",
   "metadata": {},
   "outputs": [
    {
     "name": "stdout",
     "output_type": "stream",
     "text": [
      "<class 'function'>\n",
      "<class 'str'>\n",
      "<class 'int'>\n"
     ]
    }
   ],
   "source": [
    "# Everything in python is an object of some class\n",
    "\n",
    "def foo():\n",
    "    print('hello')\n",
    "\n",
    "print(type(foo))\n",
    "print(type('hello'))\n",
    "print(type(13))"
   ]
  },
  {
   "cell_type": "code",
   "execution_count": 35,
   "id": "fa76b12d",
   "metadata": {},
   "outputs": [
    {
     "name": "stdout",
     "output_type": "stream",
     "text": [
      "hey look I made a dog\n",
      "Howwwlllll\n",
      "bark !!\n"
     ]
    }
   ],
   "source": [
    "class Dog:\n",
    "    \n",
    "    def __init__(self): # 'self' allows you to create an instance of the Dog class, \n",
    "                        # It can be any word other than 'self'.\n",
    "        print(\"hey look I made a dog\")\n",
    "    \n",
    "    def howl(self): # 'self' allows you to use the method 'howl' with an instance of 'Dog'\n",
    "        print(\"Howwwlllll\")\n",
    "        \n",
    "    def bark(): # Here 'self' is not given, therefore 'bark' cannot be used with \n",
    "                # instace of 'Dog'\n",
    "        print(\"bark !!\")\n",
    "    \n",
    "        \n",
    "dog = Dog() # Creates an instance of \"Dog\". Uses __init__(self)\n",
    "dog.howl()\n",
    "try:\n",
    "    dog.bark() # This will not work because self was not passed into the first\n",
    "               # place of the function argument\n",
    "except:\n",
    "    pass\n",
    "Dog.bark() # This works as we are explicitly giving the class.\n",
    "           # I can use this method without creating an instance of this class"
   ]
  },
  {
   "cell_type": "code",
   "execution_count": 41,
   "id": "4d982a92",
   "metadata": {},
   "outputs": [
    {
     "name": "stdout",
     "output_type": "stream",
     "text": [
      "hey look I made a dog\n",
      "hey look I made a dog\n",
      "3\n",
      "Rottwieler\n"
     ]
    }
   ],
   "source": [
    "class Dog:\n",
    "    \n",
    "    def __init__(self,age,breed): \n",
    "        self.age = age # Anything with a 'self' belongs to an instance of the class \n",
    "        self.breed = breed\n",
    "        print(\"hey look I made a dog\")\n",
    "    \n",
    "    def howl(self): \n",
    "        print(\"Howwwlllll\")\n",
    "        \n",
    "    def bark(): # Here 'self' is not given, therefore 'bark' cannot be used with \n",
    "                # instace of 'Dog'\n",
    "        print(\"bark !!\")\n",
    "        # print(self.age) This will not work as function 'bark' is not associated \n",
    "        # with an instance\n",
    "\n",
    "rambo = Dog(3,'Rottwieler')\n",
    "simba = Dog(3,'Dashhund')\n",
    "print(simba.age)\n",
    "print(rambo.breed)\n",
    "\n",
    "try:\n",
    "    Dog.breed # Will not work as breed is an instance variable\n",
    "except:\n",
    "    pass\n",
    "\n"
   ]
  },
  {
   "cell_type": "markdown",
   "id": "aa0c7118",
   "metadata": {},
   "source": [
    "## overiding methods (dunder methods)\n",
    "\n",
    "* dunder methods are predifined identifiers for certain operators like '+' -> `__add__`\n",
    "* This is an example for polymorphism"
   ]
  },
  {
   "cell_type": "code",
   "execution_count": 42,
   "id": "0bd97b74",
   "metadata": {},
   "outputs": [],
   "source": [
    "# Create a class vector that takes upto 3 dimensions\n",
    "# Create methods for adding, subtracting and mulitplying vectors using +,- and *\n",
    "# Create method for printing vectors in format `{x,y,z}`"
   ]
  },
  {
   "cell_type": "code",
   "execution_count": 53,
   "id": "8e44b129",
   "metadata": {},
   "outputs": [
    {
     "name": "stdout",
     "output_type": "stream",
     "text": [
      "[1,2,3] [3,2,1]\n",
      "[4,4,4]\n",
      "[-2,0,2]\n",
      "10\n",
      "[9,9,9]\n"
     ]
    }
   ],
   "source": [
    "class Vector:\n",
    "    \n",
    "    def __init__(self,x,y,z):\n",
    "        self.x = x\n",
    "        self.y = y\n",
    "        self.z = z\n",
    "    \n",
    "    def __str__(self): # This dunder method helps us print the instance\n",
    "                       # in the format that we want \n",
    "        return f'[{str(self.x)},{str(self.y)},{str(self.z)}]'\n",
    "        \n",
    "    def __add__(self,vector): # 2nd parameter is itself an instance of 'Vector'\n",
    "                              # returning a vector object \n",
    "        return Vector(self.x+vector.x, self.y+vector.y, self.z+vector.z)\n",
    "    \n",
    "    def __sub__(self,vector): \n",
    "        return Vector(self.x-vector.x, self.y-vector.y, self.z-vector.z)\n",
    "    \n",
    "    def __mul__(self,vector):\n",
    "        return self.x*vector.x + self.y*vector.y + self.z*vector.z\n",
    "        \n",
    "    \n",
    "\n",
    "v1 = Vector(1,2,3)\n",
    "v2 = Vector(3,2,1)\n",
    "v3 = Vector(5,5,5)\n",
    "print(v1, v2)\n",
    "print(v1 + v2)\n",
    "print(v1 - v2)\n",
    "print(v1 * v2)\n",
    "print(v1 + v2 + v3)\n",
    "        "
   ]
  },
  {
   "cell_type": "markdown",
   "id": "12b58ccd",
   "metadata": {},
   "source": [
    "## Instance, Static and Class methods\n",
    "\n",
    "* What are they\n",
    "* When do I use them ?"
   ]
  },
  {
   "cell_type": "markdown",
   "id": "ac2da006",
   "metadata": {},
   "source": [
    "You would use a static method when the behavior you want to implement is logically related to the class, but it doesn’t need to access class attributes (cls) or instance attributes (self). Static methods are commonly used for utility functions that perform tasks independently of instance or class data.\n",
    "\n",
    "\n",
    "    * Using the `@staticmethod` allows the method to be used with and without an instance\n",
    "    * If `@staticmethod` was not used, the method can only be called without an instance"
   ]
  },
  {
   "cell_type": "code",
   "execution_count": 67,
   "id": "bf56befd",
   "metadata": {},
   "outputs": [
    {
     "name": "stdout",
     "output_type": "stream",
     "text": [
      "Meow\n",
      "Meow\n",
      "Purr\n",
      "purr() takes 0 positional arguments but 1 was given\n"
     ]
    }
   ],
   "source": [
    "class Cat:\n",
    "    \n",
    "    @staticmethod\n",
    "    def speak():\n",
    "        return 'Meow'\n",
    "    \n",
    "\n",
    "    def purr():\n",
    "        return 'Purr'\n",
    "\n",
    "cat = Cat()        \n",
    "print(Cat.speak())\n",
    "print(cat.speak())\n",
    "print(Cat.purr())\n",
    "try:\n",
    "    print(cat.purr())\n",
    "except Exception as e:\n",
    "    print(e)\n"
   ]
  },
  {
   "cell_type": "markdown",
   "id": "9f0684b0",
   "metadata": {},
   "source": [
    "* `@classmethod` helps to modify the class variable using an instance of the class.\n",
    "* with this , it is not possible to change the original class variable using and instance"
   ]
  },
  {
   "cell_type": "code",
   "execution_count": 93,
   "id": "8bfa848a",
   "metadata": {},
   "outputs": [
    {
     "name": "stdout",
     "output_type": "stream",
     "text": [
      "Class Owner: Vava\n",
      "Instance cat1 Owner: Appu\n",
      "Instance cat2 Owner: Vava\n",
      "Instance cat1 Owner: Appu\n",
      "Class Owner: Vava\n",
      "Class Owner: Amma\n"
     ]
    }
   ],
   "source": [
    "class Cat:\n",
    "    # Class variable\n",
    "    owner = 'nature'\n",
    "    \n",
    "    def __init__(self, name):\n",
    "        self.name = name\n",
    "        \n",
    "    def say_name(self):\n",
    "        return self.name\n",
    "    \n",
    "    @staticmethod\n",
    "    def speak():\n",
    "        return 'Meow'\n",
    "    \n",
    "\n",
    "    def purr():\n",
    "        return 'Purr'\n",
    "    \n",
    "    @classmethod\n",
    "    def change_owner(cls,owner):\n",
    "        cls.owner = owner\n",
    "    \n",
    "\n",
    "#print(Cat.owner)\n",
    "cat1 = Cat('Poochi')\n",
    "\n",
    "cat1.owner = 'Appu'\n",
    "Cat.owner = 'Vava'\n",
    "print(\"Class Owner:\",Cat.owner)\n",
    "print(\"Instance cat1 Owner:\",cat1.owner)\n",
    "# Each instance will have separate class variable that can be changed and defaults to the latest class variable\n",
    "# but the original class variable remains unchanged\n",
    "\n",
    "\n",
    "cat2 = Cat('Mochi')\n",
    "print(\"Instance cat2 Owner:\",cat2.owner)\n",
    "print(\"Instance cat1 Owner:\",cat1.owner)\n",
    "print(\"Class Owner:\",Cat.owner)\n",
    "\n",
    "cat2.change_owner('Amma')\n",
    "print(\"Class Owner:\",Cat.owner)\n",
    "\n",
    "\n"
   ]
  },
  {
   "cell_type": "markdown",
   "id": "c4fb9729",
   "metadata": {},
   "source": [
    "### Inheritance"
   ]
  },
  {
   "cell_type": "markdown",
   "id": "64a6d926",
   "metadata": {},
   "source": [
    "### Dunder Methods"
   ]
  },
  {
   "cell_type": "code",
   "execution_count": 21,
   "id": "7bf3b3c3",
   "metadata": {},
   "outputs": [
    {
     "ename": "SyntaxError",
     "evalue": "invalid syntax (752957001.py, line 1)",
     "output_type": "error",
     "traceback": [
      "\u001b[0;36m  Cell \u001b[0;32mIn[21], line 1\u001b[0;36m\u001b[0m\n\u001b[0;31m    2._add_(3)\u001b[0m\n\u001b[0m      ^\u001b[0m\n\u001b[0;31mSyntaxError\u001b[0m\u001b[0;31m:\u001b[0m invalid syntax\n"
     ]
    }
   ],
   "source": []
  }
 ],
 "metadata": {
  "kernelspec": {
   "display_name": "test-kernel",
   "language": "python",
   "name": "test-kernel"
  },
  "language_info": {
   "codemirror_mode": {
    "name": "ipython",
    "version": 3
   },
   "file_extension": ".py",
   "mimetype": "text/x-python",
   "name": "python",
   "nbconvert_exporter": "python",
   "pygments_lexer": "ipython3",
   "version": "3.9.7"
  }
 },
 "nbformat": 4,
 "nbformat_minor": 5
}
