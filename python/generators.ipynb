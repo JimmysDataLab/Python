{
 "cells": [
  {
   "cell_type": "markdown",
   "id": "b2335453",
   "metadata": {},
   "source": [
    "* generators\n",
    "  * yield / yield from\n",
    "  * generator pipelines / file processing / comprehesion\n",
    "  * advanced use cases"
   ]
  },
  {
   "cell_type": "markdown",
   "id": "c9eb5eab",
   "metadata": {},
   "source": [
    "### Basics"
   ]
  },
  {
   "cell_type": "markdown",
   "id": "625af255",
   "metadata": {},
   "source": [
    "* Generators are a type of lazy programming\n",
    "* They are computed only when called , and their states are saved"
   ]
  },
  {
   "cell_type": "code",
   "execution_count": 1,
   "id": "01f9ccd7",
   "metadata": {},
   "outputs": [],
   "source": [
    "import memory_profiler\n",
    "%load_ext memory_profiler"
   ]
  },
  {
   "cell_type": "code",
   "execution_count": 69,
   "id": "28b1d22c",
   "metadata": {},
   "outputs": [
    {
     "name": "stdout",
     "output_type": "stream",
     "text": [
      "0\n",
      "2\n",
      "4\n",
      "6\n",
      "<class 'generator'>\n"
     ]
    }
   ],
   "source": [
    "# Generator comprehension\n",
    "num = (i for i in range(100000) if i%2==0) # Create a generator for even numbers\n",
    "\n",
    "# next call will trigger execution and save state until StopIteration\n",
    "print(next(num))\n",
    "print(next(num))\n",
    "print(next(num))\n",
    "print(next(num))\n",
    "print(type(num))"
   ]
  },
  {
   "cell_type": "code",
   "execution_count": 70,
   "id": "819ec29a",
   "metadata": {},
   "outputs": [
    {
     "name": "stdout",
     "output_type": "stream",
     "text": [
      "0\n",
      "2\n",
      "4\n",
      "6\n",
      "<class 'generator'>\n"
     ]
    }
   ],
   "source": [
    "# Vanilla syntax using yield\n",
    "def generator(n):\n",
    "    for i in range(n):\n",
    "        if i%2==0:\n",
    "            yield i\n",
    "num = generator(10)\n",
    "print(next(num))\n",
    "print(next(num))\n",
    "print(next(num))\n",
    "print(next(num))\n",
    "print(type(num))"
   ]
  },
  {
   "cell_type": "code",
   "execution_count": 62,
   "id": "bda3d3d0",
   "metadata": {
    "scrolled": true
   },
   "outputs": [
    {
     "data": {
      "text/plain": [
       "[2, 4, 6, 8]"
      ]
     },
     "execution_count": 62,
     "metadata": {},
     "output_type": "execute_result"
    }
   ],
   "source": [
    "list(num) # I can use a list constructor to create a list from a generator"
   ]
  },
  {
   "cell_type": "markdown",
   "id": "8c45e9b7",
   "metadata": {},
   "source": [
    "### `yield from`\n",
    "\n",
    "`yield from` can be used to call a generator inside another generator of function"
   ]
  },
  {
   "cell_type": "code",
   "execution_count": 65,
   "id": "c176c197",
   "metadata": {},
   "outputs": [
    {
     "name": "stdout",
     "output_type": "stream",
     "text": [
      "Hello\n",
      "My Dear\n",
      "Kuttichatha\n"
     ]
    }
   ],
   "source": [
    "\n",
    "\n",
    "def gen1():\n",
    "    yield \"Hello\"\n",
    "    yield \"My Dear\"\n",
    "    yield \"Kuttichatha\"\n",
    "    \n",
    "def gen2():\n",
    "    yield from gen1()\n",
    "    \n",
    "gen = gen2()\n",
    "print(next(gen))\n",
    "print(next(gen))\n",
    "print(next(gen))\n"
   ]
  },
  {
   "cell_type": "markdown",
   "id": "63e9acb7",
   "metadata": {},
   "source": [
    "## Generator compositions\n",
    "\n",
    "Generators can be chained together. This can be used in cases like data preprocessing pipelines. Below cell shows how a generator is more faster and more memory efficient than a list"
   ]
  },
  {
   "cell_type": "code",
   "execution_count": 10,
   "id": "7bdb2540",
   "metadata": {},
   "outputs": [
    {
     "name": "stdout",
     "output_type": "stream",
     "text": [
      "Generator Implementation\n",
      "peak memory: 842.79 MiB, increment: 0.00 MiB\n",
      "209 ns ± 1.4 ns per loop (mean ± std. dev. of 7 runs, 1,000,000 loops each)\n",
      "\n",
      "\n",
      "List Implementation\n",
      "peak memory: 1232.05 MiB, increment: 389.25 MiB\n",
      "8.7 s ± 43.6 ms per loop (mean ± std. dev. of 7 runs, 1 loop each)\n"
     ]
    }
   ],
   "source": [
    "ls = [i for i in range(10_000_000)] # 10 million numbers\n",
    "\n",
    "\n",
    "def list_sum(list):\n",
    "    return sum([((x**2)-2)//3 for x in ls])\n",
    "\n",
    "\n",
    "# Chaining generators\n",
    "gen_squares = (x**2 for x in ls)\n",
    "gen_subtraction = (x - 2 for x in gen_squares)\n",
    "gen_division = (x//3 for x in gen_subtraction)\n",
    "\n",
    "\n",
    "def generator_sum(generator):\n",
    "    gen_sum = 0\n",
    "    for e in generator:\n",
    "        gen_sum += e\n",
    "    return gen_sum\n",
    "\n",
    "print(\"Generator Implementation\")\n",
    "%memit gen_sum = generator_sum(gen_division)\n",
    "%timeit gen_sum = generator_sum(gen_division)\n",
    "print(\"\\n\\nList Implementation\")\n",
    "%memit ls_sum = list_sum(ls)\n",
    "%timeit ls_sum = list_sum(ls)"
   ]
  },
  {
   "cell_type": "markdown",
   "id": "7f95a7f1",
   "metadata": {},
   "source": [
    "## `yield` as an expression\n",
    "\n",
    "`yield` can also be used as an expression, allowing you to capture the value that is sent to the generator via the `send()` method. This feature makes it possible to have two-way communication between the caller and the generator function."
   ]
  },
  {
   "cell_type": "code",
   "execution_count": 70,
   "id": "6fc2bf18",
   "metadata": {},
   "outputs": [],
   "source": [
    "def generate():\n",
    "    i = 0\n",
    "    while i < 10:\n",
    "        i+=1\n",
    "        from_sent = yield i\n",
    "        print(from_sent, i)\n",
    "       \n",
    "    "
   ]
  },
  {
   "cell_type": "code",
   "execution_count": 71,
   "id": "2a30b160",
   "metadata": {},
   "outputs": [],
   "source": [
    "gen = generate()"
   ]
  },
  {
   "cell_type": "code",
   "execution_count": 72,
   "id": "4980673f",
   "metadata": {},
   "outputs": [
    {
     "data": {
      "text/plain": [
       "1"
      ]
     },
     "execution_count": 72,
     "metadata": {},
     "output_type": "execute_result"
    }
   ],
   "source": [
    "next(gen)"
   ]
  }
 ],
 "metadata": {
  "kernelspec": {
   "display_name": "test-kernel",
   "language": "python",
   "name": "test-kernel"
  },
  "language_info": {
   "codemirror_mode": {
    "name": "ipython",
    "version": 3
   },
   "file_extension": ".py",
   "mimetype": "text/x-python",
   "name": "python",
   "nbconvert_exporter": "python",
   "pygments_lexer": "ipython3",
   "version": "3.9.7"
  }
 },
 "nbformat": 4,
 "nbformat_minor": 5
}
