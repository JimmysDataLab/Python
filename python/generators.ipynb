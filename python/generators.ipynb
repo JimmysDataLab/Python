{
 "cells": [
  {
   "cell_type": "markdown",
   "id": "036d3e7a",
   "metadata": {},
   "source": [
    "* generators\n",
    "  * yield / yield from\n",
    "  * generator pipelines / file processing / comprehesion\n",
    "  * advanced use cases"
   ]
  },
  {
   "cell_type": "markdown",
   "id": "0a3ebfc2",
   "metadata": {},
   "source": [
    "### Basics"
   ]
  },
  {
   "cell_type": "markdown",
   "id": "9cea2445",
   "metadata": {},
   "source": [
    "* Generators are a type of lazy programming\n",
    "* They are computed only when called , and their states are saved"
   ]
  },
  {
   "cell_type": "code",
   "execution_count": 2,
   "id": "908d8b23",
   "metadata": {},
   "outputs": [],
   "source": [
    "# Generator comprehension\n",
    "num = (i for i in range(100000) if i%2==0) # Create a generator for even numbers"
   ]
  },
  {
   "cell_type": "code",
   "execution_count": 41,
   "id": "f19c197e",
   "metadata": {},
   "outputs": [
    {
     "data": {
      "text/plain": [
       "76"
      ]
     },
     "execution_count": 41,
     "metadata": {},
     "output_type": "execute_result"
    }
   ],
   "source": [
    "next(num) # next call will trigger execution and save state until StopIteration"
   ]
  },
  {
   "cell_type": "code",
   "execution_count": 58,
   "id": "5572876b",
   "metadata": {},
   "outputs": [
    {
     "name": "stdout",
     "output_type": "stream",
     "text": [
      "<class 'generator'>\n"
     ]
    }
   ],
   "source": [
    "print(type(num))"
   ]
  },
  {
   "cell_type": "code",
   "execution_count": 60,
   "id": "bb908be4",
   "metadata": {},
   "outputs": [],
   "source": [
    "# Vanilla syntax\n",
    "def generator(n):\n",
    "    for i in range(n):\n",
    "        if i%2==0:\n",
    "            yield i\n",
    "num = generator(10)"
   ]
  },
  {
   "cell_type": "code",
   "execution_count": 61,
   "id": "797ba378",
   "metadata": {},
   "outputs": [
    {
     "data": {
      "text/plain": [
       "0"
      ]
     },
     "execution_count": 61,
     "metadata": {},
     "output_type": "execute_result"
    }
   ],
   "source": [
    "next(num)"
   ]
  },
  {
   "cell_type": "code",
   "execution_count": 62,
   "id": "b15c97a8",
   "metadata": {
    "scrolled": true
   },
   "outputs": [
    {
     "data": {
      "text/plain": [
       "[2, 4, 6, 8]"
      ]
     },
     "execution_count": 62,
     "metadata": {},
     "output_type": "execute_result"
    }
   ],
   "source": [
    "list(num) # I can use a list constructor to create a list from a generator"
   ]
  },
  {
   "cell_type": "code",
   "execution_count": null,
   "id": "f981ccec",
   "metadata": {},
   "outputs": [],
   "source": []
  },
  {
   "cell_type": "code",
   "execution_count": null,
   "id": "5ddddb12",
   "metadata": {},
   "outputs": [],
   "source": []
  }
 ],
 "metadata": {
  "kernelspec": {
   "display_name": "test-kernel",
   "language": "python",
   "name": "test-kernel"
  },
  "language_info": {
   "codemirror_mode": {
    "name": "ipython",
    "version": 3
   },
   "file_extension": ".py",
   "mimetype": "text/x-python",
   "name": "python",
   "nbconvert_exporter": "python",
   "pygments_lexer": "ipython3",
   "version": "3.9.7"
  }
 },
 "nbformat": 4,
 "nbformat_minor": 5
}
