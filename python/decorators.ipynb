{
 "cells": [
  {
   "cell_type": "markdown",
   "metadata": {},
   "source": [
    "### Basic syntax and usage of decorators"
   ]
  },
  {
   "cell_type": "markdown",
   "metadata": {},
   "source": [
    "\n",
    "* I have a basic function ```func``` and two decorators -  ```decorator1``` and ```decorator2```\n",
    "* ```decorator1``` does not take parameters\n",
    "* ```decorator2``` accepts parameters\n",
    "\n",
    "```python\n",
    "def decorator1(function_name): # Takes the function name as parameter\n",
    "    def wrapper(*args,**kwargs): # The wrapper contains parameters of \"func\"\n",
    "        \n",
    "        output = function_name(*args,**kwargs) # Invokes the function\n",
    "\n",
    "        return output\n",
    "    return wrapper # Return wrapper function object.\n",
    "```\n",
    "decorator1 can be invoked by ```@decorator1```\n",
    "```python\n",
    "@decorator1\n",
    "func(*args,**kwargs):\n",
    "    ...\n",
    "```\n",
    "Here, _decorator1_ will take function name _func_ and its arguments.\n",
    "The return value of _func_ can be assigned to a variable during its function call like so:\n",
    "```python\n",
    "output = func(1,2,.5)\n",
    "print(output)\n",
    "```\n",
    "\n"
   ]
  },
  {
   "cell_type": "markdown",
   "metadata": {},
   "source": [
    "```python\n",
    "def decorator2(*argx,**kwargx): # Parameters of the decorator\n",
    "    def outer_wrapper(function_name): # Outer wrapper takes function name as parameter\n",
    "        def inner_wrapper(*args,**kwargs): # Inner wrapper contains parameters of the original function\n",
    "\n",
    "            output = function_name(*args,**kwargs) # Invokes the function\n",
    "\n",
    "            return output\n",
    "        return inner_wrapper\n",
    "    return outer_wrapper # Return wrapper function object. Only invoked at the function call of func\n",
    "```\n",
    "decorator2 can be invoked by ```@decorator2(*args,**kwargs)```\n",
    "```python\n",
    "@decorator2(*argx,**kwargx)\n",
    "func(*args,**kwargs):\n",
    "    ...\n",
    "```\n",
    "Here, _decorator2_ will take its arguments,function name _func_ and its arguments.\n",
    "The return value of _func_ can be assigned to a variable during its function call like so:\n",
    "```python\n",
    "output = func(1,2,.5)\n",
    "print(output)\n"
   ]
  },
  {
   "cell_type": "code",
   "execution_count": 55,
   "metadata": {},
   "outputs": [],
   "source": [
    "import time\n",
    "import logging\n",
    "\n",
    "logging.basicConfig(level=logging.INFO, format='%(asctime)s - %(message)s')\n",
    "\n",
    "def decorator1(func):\n",
    "    def wrapper(*args,**kwargs):\n",
    "        start_time = time.time()\n",
    "        output = func(*args,**kwargs)\n",
    "        end_time = time.time()\n",
    "        elapsed_time = end_time - start_time\n",
    "        logging.info(f\"{func.__name__}:{elapsed_time}\")\n",
    "        return output\n",
    "    \n",
    "    return wrapper\n",
    "\n",
    "\n",
    "def decorator2(*args,**kwargs):# Parameters for the decorator\n",
    "\n",
    "    print(f'parameter for decorator : {kwargs[\"type\"]}')\n",
    "    type = kwargs['type']\n",
    "\n",
    "    def outer_wrapper(func): \n",
    "        def inner_wrapper(*args,**kwargs):\n",
    "            start_time = time.time()\n",
    "            output = func(*args,**kwargs)\n",
    "            end_time = time.time()\n",
    "            elapsed_time = end_time - start_time\n",
    "            logging.info(f\"{func.__name__}:{elapsed_time}:decorator2 para:{type}\")\n",
    "\n",
    "            return output  \n",
    "        return inner_wrapper\n",
    "    return outer_wrapper"
   ]
  },
  {
   "cell_type": "code",
   "execution_count": 56,
   "metadata": {},
   "outputs": [
    {
     "name": "stderr",
     "output_type": "stream",
     "text": [
      "2024-08-19 11:20:57,188 - func:3.504613161087036\n"
     ]
    },
    {
     "name": "stdout",
     "output_type": "stream",
     "text": [
      "3.5\n"
     ]
    }
   ],
   "source": [
    "@decorator1\n",
    "def func(*args,**kwargs):\n",
    "    #print(args,kwargs)\n",
    "    time.sleep(sum(args))\n",
    "    #print(f'Function \"{func.__name__}\" executed with argument \"{min(args)}\"')\n",
    "    return sum(args)\n",
    "    \n",
    "    \n",
    "\n",
    "output = func(1,2,.5)\n",
    "print(output)"
   ]
  },
  {
   "cell_type": "code",
   "execution_count": 57,
   "metadata": {},
   "outputs": [
    {
     "name": "stdout",
     "output_type": "stream",
     "text": [
      "parameter for decorator : min\n"
     ]
    },
    {
     "name": "stderr",
     "output_type": "stream",
     "text": [
      "2024-08-19 11:21:00,711 - func:3.5031540393829346:decorator para:min\n"
     ]
    },
    {
     "name": "stdout",
     "output_type": "stream",
     "text": [
      "3.5\n"
     ]
    }
   ],
   "source": [
    "@decorator2(type='min')\n",
    "def func(*args,**kwargs):\n",
    "    #print(args,kwargs)\n",
    "    time.sleep(sum(args))\n",
    "    #print(f'Function \"{func.__name__}\" executed with argument \"{min(args)}\"')\n",
    "    return sum(args)\n",
    "    \n",
    "    \n",
    "\n",
    "output = func(1,2,.5)\n",
    "print(output)"
   ]
  }
 ],
 "metadata": {
  "kernelspec": {
   "display_name": "test-kernel",
   "language": "python",
   "name": "test-kernel"
  },
  "language_info": {
   "codemirror_mode": {
    "name": "ipython",
    "version": 3
   },
   "file_extension": ".py",
   "mimetype": "text/x-python",
   "name": "python",
   "nbconvert_exporter": "python",
   "pygments_lexer": "ipython3",
   "version": "3.9.7"
  }
 },
 "nbformat": 4,
 "nbformat_minor": 2
}
